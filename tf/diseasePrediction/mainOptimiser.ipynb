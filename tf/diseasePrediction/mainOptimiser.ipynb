{
 "cells": [
  {
   "cell_type": "code",
   "execution_count": null,
   "metadata": {},
   "outputs": [],
   "source": [
    "import tensorflow as tf\n",
    "import pandas as pd\n",
    "import numpy as np\n",
    "\n",
    "from sklearn.preprocessing import StandardScaler\n",
    "import itertools\n",
    "from sklearn.metrics import accuracy_score, precision_score, recall_score, f1_score\n",
    "from tensorflow.keras.optimizers import Adam\n",
    "\n",
    "import sklearn.model_selection as sk\n",
    "from sklearn.preprocessing import MinMaxScaler"
   ]
  },
  {
   "cell_type": "code",
   "execution_count": 30,
   "metadata": {},
   "outputs": [],
   "source": [
    "df = pd.read_csv('health_data.csv')\n",
    "\n",
    "# loads the data that will be used as input\n",
    "X = df[['Age','Sex','HighChol','CholCheck','BMI','Smoker','HeartDiseaseorAttack','PhysActivity','Fruits','Veggies','HvyAlcoholConsump','GenHlth','MentHlth','PhysHlth','DiffWalk']]\n",
    "# loads the data that will be used as output\n",
    "yDiabetes = df[['Diabetes']]"
   ]
  },
  {
   "cell_type": "code",
   "execution_count": 31,
   "metadata": {},
   "outputs": [],
   "source": [
    "X_train, X_test, y_train, y_test = sk.train_test_split(X, yDiabetes, test_size=0.2, random_state = 42)"
   ]
  },
  {
   "cell_type": "code",
   "execution_count": 32,
   "metadata": {},
   "outputs": [],
   "source": [
    "scaler = StandardScaler()\n",
    "scaled_X_train = scaler.fit_transform(X_train)\n",
    "scaled_X_test = scaler.fit_transform(X_test)"
   ]
  },
  {
   "cell_type": "code",
   "execution_count": 33,
   "metadata": {},
   "outputs": [],
   "source": [
    "NEW_y_train = []\n",
    "for i in y_train.to_numpy():\n",
    "    NEW_y_train.append(int(i[0]))"
   ]
  },
  {
   "attachments": {},
   "cell_type": "markdown",
   "metadata": {},
   "source": [
    "https://towardsdatascience.com/how-to-find-optimal-neural-network-architecture-with-tensorflow-the-easy-way-50575a03d060"
   ]
  },
  {
   "cell_type": "code",
   "execution_count": 34,
   "metadata": {},
   "outputs": [],
   "source": [
    "# total number of layers\n",
    "num_layers = 3\n",
    "# minimmum number of nodes\n",
    "min_nodes_per_layer = 64\n",
    "# maximum number of nodes\n",
    "max_nodes_per_layer = 256\n",
    "# amount to increase/decrease the number of nodes each step\n",
    "node_step_size = 64\n",
    "\n",
    "node_options = list(range(\n",
    "    min_nodes_per_layer, \n",
    "    max_nodes_per_layer + 1, \n",
    "    node_step_size\n",
    "))"
   ]
  },
  {
   "cell_type": "code",
   "execution_count": 35,
   "metadata": {},
   "outputs": [],
   "source": [
    "# gives us all the possible combinations/permutaions of the neural network\n",
    "layer_possibilities = [node_options] * num_layers\n",
    "layer_node_permutations = list(itertools.product(*layer_possibilities))"
   ]
  },
  {
   "cell_type": "code",
   "execution_count": 36,
   "metadata": {},
   "outputs": [],
   "source": [
    "models = []\n",
    "\n",
    "for permutation in layer_node_permutations:\n",
    "    model = tf.keras.Sequential()\n",
    "    model.add(tf.keras.layers.InputLayer(input_shape=(15,)))\n",
    "    model_name = ''\n",
    "    \n",
    "    for nodes_at_layer in permutation:\n",
    "        model.add(tf.keras.layers.Dense(nodes_at_layer, activation='relu'))\n",
    "        model_name += f'dense{nodes_at_layer}_'\n",
    "        \n",
    "    model.add(tf.keras.layers.Dense(2, activation='softmax'))\n",
    "    model._name = model_name[:-1]\n",
    "    \n",
    "    models.append(model)"
   ]
  },
  {
   "cell_type": "code",
   "execution_count": null,
   "metadata": {},
   "outputs": [],
   "source": [
    "trainingSummary = []\n",
    "\n",
    "for model in models:\n",
    "    model.compile(optimizer=Adam(learning_rate=0.0001), loss='sparse_categorical_crossentropy', metrics=['accuracy'])\n",
    "    \n",
    "    model.fit(x=scaled_X_train, y=np.array(NEW_y_train), batch_size=10, epochs=30, shuffle=True, verbose=2)\n",
    "    \n",
    "    preds = model.predict(scaled_X_test)\n",
    "    \n",
    "    \n",
    "    prediction_classes = pd.DataFrame(np.argmax(preds, axis=-1))\n",
    "\n",
    "    ans = {\n",
    "        'model_name': model.name,\n",
    "        'model_number': len(trainingSummary),\n",
    "        'test_accuracy': accuracy_score(y_test, prediction_classes),\n",
    "        'test_precision': precision_score(y_test, prediction_classes),\n",
    "        'test_recall': recall_score(y_test, prediction_classes),\n",
    "        'test_f1': f1_score(y_test, prediction_classes)\n",
    "    }\n",
    "    \n",
    "    trainingSummary.append(ans)\n",
    "    \n",
    "    "
   ]
  },
  {
   "cell_type": "code",
   "execution_count": null,
   "metadata": {},
   "outputs": [
    {
     "data": {
      "text/html": [
       "<div>\n",
       "<style scoped>\n",
       "    .dataframe tbody tr th:only-of-type {\n",
       "        vertical-align: middle;\n",
       "    }\n",
       "\n",
       "    .dataframe tbody tr th {\n",
       "        vertical-align: top;\n",
       "    }\n",
       "\n",
       "    .dataframe thead th {\n",
       "        text-align: right;\n",
       "    }\n",
       "</style>\n",
       "<table border=\"1\" class=\"dataframe\">\n",
       "  <thead>\n",
       "    <tr style=\"text-align: right;\">\n",
       "      <th></th>\n",
       "      <th>model_name</th>\n",
       "      <th>test_accuracy</th>\n",
       "      <th>test_precision</th>\n",
       "      <th>test_recall</th>\n",
       "      <th>test_f1</th>\n",
       "    </tr>\n",
       "  </thead>\n",
       "  <tbody>\n",
       "    <tr>\n",
       "      <th>20</th>\n",
       "      <td>20</td>\n",
       "      <td>0.748921</td>\n",
       "      <td>0.730167</td>\n",
       "      <td>0.787346</td>\n",
       "      <td>0.757679</td>\n",
       "    </tr>\n",
       "    <tr>\n",
       "      <th>44</th>\n",
       "      <td>44</td>\n",
       "      <td>0.748073</td>\n",
       "      <td>0.728117</td>\n",
       "      <td>0.789474</td>\n",
       "      <td>0.757555</td>\n",
       "    </tr>\n",
       "    <tr>\n",
       "      <th>34</th>\n",
       "      <td>34</td>\n",
       "      <td>0.747365</td>\n",
       "      <td>0.731461</td>\n",
       "      <td>0.779401</td>\n",
       "      <td>0.754670</td>\n",
       "    </tr>\n",
       "    <tr>\n",
       "      <th>42</th>\n",
       "      <td>42</td>\n",
       "      <td>0.747295</td>\n",
       "      <td>0.728986</td>\n",
       "      <td>0.784934</td>\n",
       "      <td>0.755926</td>\n",
       "    </tr>\n",
       "    <tr>\n",
       "      <th>21</th>\n",
       "      <td>21</td>\n",
       "      <td>0.747153</td>\n",
       "      <td>0.720041</td>\n",
       "      <td>0.806356</td>\n",
       "      <td>0.760758</td>\n",
       "    </tr>\n",
       "    <tr>\n",
       "      <th>...</th>\n",
       "      <td>...</td>\n",
       "      <td>...</td>\n",
       "      <td>...</td>\n",
       "      <td>...</td>\n",
       "      <td>...</td>\n",
       "    </tr>\n",
       "    <tr>\n",
       "      <th>29</th>\n",
       "      <td>29</td>\n",
       "      <td>0.741707</td>\n",
       "      <td>0.706304</td>\n",
       "      <td>0.824940</td>\n",
       "      <td>0.761026</td>\n",
       "    </tr>\n",
       "    <tr>\n",
       "      <th>40</th>\n",
       "      <td>40</td>\n",
       "      <td>0.741283</td>\n",
       "      <td>0.738299</td>\n",
       "      <td>0.745212</td>\n",
       "      <td>0.741740</td>\n",
       "    </tr>\n",
       "    <tr>\n",
       "      <th>28</th>\n",
       "      <td>28</td>\n",
       "      <td>0.739656</td>\n",
       "      <td>0.693519</td>\n",
       "      <td>0.856150</td>\n",
       "      <td>0.766301</td>\n",
       "    </tr>\n",
       "    <tr>\n",
       "      <th>15</th>\n",
       "      <td>15</td>\n",
       "      <td>0.739303</td>\n",
       "      <td>0.703843</td>\n",
       "      <td>0.823663</td>\n",
       "      <td>0.759053</td>\n",
       "    </tr>\n",
       "    <tr>\n",
       "      <th>63</th>\n",
       "      <td>63</td>\n",
       "      <td>0.737747</td>\n",
       "      <td>0.690631</td>\n",
       "      <td>0.858561</td>\n",
       "      <td>0.765495</td>\n",
       "    </tr>\n",
       "  </tbody>\n",
       "</table>\n",
       "<p>64 rows × 5 columns</p>\n",
       "</div>"
      ],
      "text/plain": [
       "    model_name  test_accuracy  test_precision  test_recall   test_f1\n",
       "20          20       0.748921        0.730167     0.787346  0.757679\n",
       "44          44       0.748073        0.728117     0.789474  0.757555\n",
       "34          34       0.747365        0.731461     0.779401  0.754670\n",
       "42          42       0.747295        0.728986     0.784934  0.755926\n",
       "21          21       0.747153        0.720041     0.806356  0.760758\n",
       "..         ...            ...             ...          ...       ...\n",
       "29          29       0.741707        0.706304     0.824940  0.761026\n",
       "40          40       0.741283        0.738299     0.745212  0.741740\n",
       "28          28       0.739656        0.693519     0.856150  0.766301\n",
       "15          15       0.739303        0.703843     0.823663  0.759053\n",
       "63          63       0.737747        0.690631     0.858561  0.765495\n",
       "\n",
       "[64 rows x 5 columns]"
      ]
     },
     "execution_count": 23,
     "metadata": {},
     "output_type": "execute_result"
    }
   ],
   "source": [
    "pd.DataFrame(trainingSummary).sort_values(by='test_accuracy', ascending=False)"
   ]
  }
 ],
 "metadata": {
  "kernelspec": {
   "display_name": "Python 3",
   "language": "python",
   "name": "python3"
  },
  "language_info": {
   "codemirror_mode": {
    "name": "ipython",
    "version": 3
   },
   "file_extension": ".py",
   "mimetype": "text/x-python",
   "name": "python",
   "nbconvert_exporter": "python",
   "pygments_lexer": "ipython3",
   "version": "3.11.1 (tags/v3.11.1:a7a450f, Dec  6 2022, 19:58:39) [MSC v.1934 64 bit (AMD64)]"
  },
  "orig_nbformat": 4,
  "vscode": {
   "interpreter": {
    "hash": "20d7ff51f8bcd8745782339b11d28bfbf2e9f0bbc0be0bc946c90b71ca63454a"
   }
  }
 },
 "nbformat": 4,
 "nbformat_minor": 2
}
