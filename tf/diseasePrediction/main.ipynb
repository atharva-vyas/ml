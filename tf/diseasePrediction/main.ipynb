{
 "cells": [
  {
   "cell_type": "code",
   "execution_count": 24,
   "metadata": {},
   "outputs": [],
   "source": [
    "import tensorflow as tf\n",
    "import pandas as pd\n",
    "import numpy as np\n",
    "\n",
    "from sklearn.preprocessing import StandardScaler\n",
    "\n",
    "import sklearn.model_selection as sk\n",
    "from sklearn.preprocessing import MinMaxScaler"
   ]
  },
  {
   "cell_type": "code",
   "execution_count": 16,
   "metadata": {},
   "outputs": [],
   "source": [
    "df = pd.read_csv('health_data.csv')\n",
    "\n",
    "# loads the data that will be used as input\n",
    "X = df[['Age','Sex','HighChol','CholCheck','BMI','Smoker','HeartDiseaseorAttack','PhysActivity','Fruits','Veggies','HvyAlcoholConsump','GenHlth','MentHlth','PhysHlth','DiffWalk']]\n",
    "# loads the data that will be used as output\n",
    "yDiabetes = df[['Diabetes']]"
   ]
  },
  {
   "cell_type": "code",
   "execution_count": 17,
   "metadata": {},
   "outputs": [],
   "source": [
    "X_train, X_test, y_train, y_test = sk.train_test_split(X, yDiabetes, test_size=0.2, random_state = 42)"
   ]
  },
  {
   "cell_type": "code",
   "execution_count": 18,
   "metadata": {},
   "outputs": [],
   "source": [
    "modelDiabetes = tf.keras.models.Sequential([\n",
    "    tf.keras.layers.Dense(units=14, activation=\"relu\"),\n",
    "    tf.keras.layers.Dense(units=64, activation=\"relu\"),\n",
    "    tf.keras.layers.Dense(units=128, activation=\"relu\"),\n",
    "    tf.keras.layers.Dense(units=256, activation=\"relu\"),\n",
    "    tf.keras.layers.Dense(units=2, activation=\"softmax\")\n",
    "])"
   ]
  },
  {
   "cell_type": "markdown",
   "metadata": {},
   "source": []
  },
  {
   "cell_type": "code",
   "execution_count": 19,
   "metadata": {},
   "outputs": [],
   "source": [
    "modelDiabetes.compile(optimizer='adam', loss='sparse_categorical_crossentropy', metrics=['accuracy'])"
   ]
  },
  {
   "cell_type": "code",
   "execution_count": 29,
   "metadata": {},
   "outputs": [],
   "source": [
    "# scaler = MinMaxScaler(feature_range=(0,1))  \n",
    "scaler = StandardScaler()\n",
    "\n",
    "scaled_X_train = scaler.fit_transform(X_train)"
   ]
  },
  {
   "cell_type": "code",
   "execution_count": 30,
   "metadata": {},
   "outputs": [],
   "source": [
    "NEW_y_train = []\n",
    "for i in y_train.to_numpy():\n",
    "    NEW_y_train.append(int(i[0]))"
   ]
  },
  {
   "cell_type": "code",
   "execution_count": 31,
   "metadata": {},
   "outputs": [
    {
     "name": "stdout",
     "output_type": "stream",
     "text": [
      "Epoch 1/30\n",
      "5656/5656 - 13s - loss: 0.5178 - accuracy: 0.7432 - 13s/epoch - 2ms/step\n",
      "Epoch 2/30\n",
      "5656/5656 - 13s - loss: 0.5162 - accuracy: 0.7453 - 13s/epoch - 2ms/step\n",
      "Epoch 3/30\n",
      "5656/5656 - 12s - loss: 0.5148 - accuracy: 0.7454 - 12s/epoch - 2ms/step\n",
      "Epoch 4/30\n",
      "5656/5656 - 12s - loss: 0.5144 - accuracy: 0.7458 - 12s/epoch - 2ms/step\n",
      "Epoch 5/30\n",
      "5656/5656 - 12s - loss: 0.5138 - accuracy: 0.7453 - 12s/epoch - 2ms/step\n",
      "Epoch 6/30\n",
      "5656/5656 - 12s - loss: 0.5133 - accuracy: 0.7464 - 12s/epoch - 2ms/step\n",
      "Epoch 7/30\n",
      "5656/5656 - 12s - loss: 0.5130 - accuracy: 0.7473 - 12s/epoch - 2ms/step\n",
      "Epoch 8/30\n",
      "5656/5656 - 12s - loss: 0.5122 - accuracy: 0.7474 - 12s/epoch - 2ms/step\n",
      "Epoch 9/30\n",
      "5656/5656 - 12s - loss: 0.5122 - accuracy: 0.7465 - 12s/epoch - 2ms/step\n",
      "Epoch 10/30\n",
      "5656/5656 - 12s - loss: 0.5116 - accuracy: 0.7478 - 12s/epoch - 2ms/step\n",
      "Epoch 11/30\n",
      "5656/5656 - 12s - loss: 0.5112 - accuracy: 0.7476 - 12s/epoch - 2ms/step\n",
      "Epoch 12/30\n",
      "5656/5656 - 12s - loss: 0.5117 - accuracy: 0.7471 - 12s/epoch - 2ms/step\n",
      "Epoch 13/30\n",
      "5656/5656 - 12s - loss: 0.5112 - accuracy: 0.7472 - 12s/epoch - 2ms/step\n",
      "Epoch 14/30\n",
      "5656/5656 - 12s - loss: 0.5109 - accuracy: 0.7480 - 12s/epoch - 2ms/step\n",
      "Epoch 15/30\n",
      "5656/5656 - 12s - loss: 0.5106 - accuracy: 0.7486 - 12s/epoch - 2ms/step\n",
      "Epoch 16/30\n",
      "5656/5656 - 12s - loss: 0.5104 - accuracy: 0.7483 - 12s/epoch - 2ms/step\n",
      "Epoch 17/30\n",
      "5656/5656 - 12s - loss: 0.5106 - accuracy: 0.7473 - 12s/epoch - 2ms/step\n",
      "Epoch 18/30\n",
      "5656/5656 - 12s - loss: 0.5107 - accuracy: 0.7477 - 12s/epoch - 2ms/step\n",
      "Epoch 19/30\n",
      "5656/5656 - 12s - loss: 0.5102 - accuracy: 0.7484 - 12s/epoch - 2ms/step\n",
      "Epoch 20/30\n",
      "5656/5656 - 12s - loss: 0.5105 - accuracy: 0.7477 - 12s/epoch - 2ms/step\n",
      "Epoch 21/30\n",
      "5656/5656 - 12s - loss: 0.5098 - accuracy: 0.7484 - 12s/epoch - 2ms/step\n",
      "Epoch 22/30\n",
      "5656/5656 - 12s - loss: 0.5099 - accuracy: 0.7491 - 12s/epoch - 2ms/step\n",
      "Epoch 23/30\n",
      "5656/5656 - 12s - loss: 0.5098 - accuracy: 0.7493 - 12s/epoch - 2ms/step\n",
      "Epoch 24/30\n",
      "5656/5656 - 12s - loss: 0.5094 - accuracy: 0.7496 - 12s/epoch - 2ms/step\n",
      "Epoch 25/30\n",
      "5656/5656 - 12s - loss: 0.5095 - accuracy: 0.7491 - 12s/epoch - 2ms/step\n",
      "Epoch 26/30\n",
      "5656/5656 - 12s - loss: 0.5091 - accuracy: 0.7486 - 12s/epoch - 2ms/step\n",
      "Epoch 27/30\n",
      "5656/5656 - 12s - loss: 0.5092 - accuracy: 0.7495 - 12s/epoch - 2ms/step\n",
      "Epoch 28/30\n",
      "5656/5656 - 12s - loss: 0.5093 - accuracy: 0.7489 - 12s/epoch - 2ms/step\n",
      "Epoch 29/30\n",
      "5656/5656 - 13s - loss: 0.5092 - accuracy: 0.7505 - 13s/epoch - 2ms/step\n",
      "Epoch 30/30\n",
      "5656/5656 - 12s - loss: 0.5090 - accuracy: 0.7497 - 12s/epoch - 2ms/step\n"
     ]
    },
    {
     "data": {
      "text/plain": [
       "<keras.callbacks.History at 0x7f7d3c2af700>"
      ]
     },
     "execution_count": 31,
     "metadata": {},
     "output_type": "execute_result"
    }
   ],
   "source": [
    "modelDiabetes.fit(x=scaled_X_train, y=np.array(NEW_y_train), batch_size=10, epochs=30, shuffle=True, verbose=2)"
   ]
  }
 ],
 "metadata": {
  "kernelspec": {
   "display_name": "Python 3",
   "language": "python",
   "name": "python3"
  },
  "language_info": {
   "codemirror_mode": {
    "name": "ipython",
    "version": 3
   },
   "file_extension": ".py",
   "mimetype": "text/x-python",
   "name": "python",
   "nbconvert_exporter": "python",
   "pygments_lexer": "ipython3",
   "version": "3.9.2"
  },
  "orig_nbformat": 4,
  "vscode": {
   "interpreter": {
    "hash": "31f2aee4e71d21fbe5cf8b01ff0e069b9275f58929596ceb00d14d90e3e16cd6"
   }
  }
 },
 "nbformat": 4,
 "nbformat_minor": 2
}
