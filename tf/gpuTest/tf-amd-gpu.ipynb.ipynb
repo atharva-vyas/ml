{
 "cells": [
  {
   "cell_type": "code",
   "execution_count": 1,
   "metadata": {},
   "outputs": [],
   "source": [
    "import tensorflow as tf"
   ]
  },
  {
   "cell_type": "code",
   "execution_count": 2,
   "metadata": {},
   "outputs": [
    {
     "name": "stdout",
     "output_type": "stream",
     "text": [
      "WARNING:tensorflow:From C:\\Users\\Atharva Vyas\\AppData\\Local\\Temp\\ipykernel_5064\\2269825933.py:1: The name tf.Session is deprecated. Please use tf.compat.v1.Session instead.\n",
      "\n",
      "WARNING:tensorflow:From C:\\Users\\Atharva Vyas\\AppData\\Local\\Temp\\ipykernel_5064\\2269825933.py:1: The name tf.ConfigProto is deprecated. Please use tf.compat.v1.ConfigProto instead.\n",
      "\n",
      "Device mapping:\n",
      "/job:localhost/replica:0/task:0/device:DML:0 -> {\"name\": \"Radeon(TM) RX 460 Graphics\", \"vendor_id\": 4098, \"device_id\": 26607, \"driver_version\": \"31.0.12029.10015\"}\n",
      "\n"
     ]
    }
   ],
   "source": [
    "sess = tf.Session(config=tf.ConfigProto(log_device_placement=True))"
   ]
  }
 ],
 "metadata": {
  "kernelspec": {
   "display_name": "env37",
   "language": "python",
   "name": "python3"
  },
  "language_info": {
   "codemirror_mode": {
    "name": "ipython",
    "version": 3
   },
   "file_extension": ".py",
   "mimetype": "text/x-python",
   "name": "python",
   "nbconvert_exporter": "python",
   "pygments_lexer": "ipython3",
   "version": "3.7.15"
  },
  "orig_nbformat": 4,
  "vscode": {
   "interpreter": {
    "hash": "2cc8209dce742021af27ec8830f2ecca777de80c1b1245cb55bac31ada75a7de"
   }
  }
 },
 "nbformat": 4,
 "nbformat_minor": 2
}
