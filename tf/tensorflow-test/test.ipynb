{
 "cells": [
  {
   "cell_type": "code",
   "execution_count": 3,
   "metadata": {},
   "outputs": [],
   "source": [
    "import tensorflow as tf\n",
    "import pandas as pd\n",
    "import numpy as np\n",
    "\n",
    "import sklearn.model_selection as sk\n",
    "from sklearn.preprocessing import MinMaxScaler"
   ]
  },
  {
   "cell_type": "code",
   "execution_count": 4,
   "metadata": {},
   "outputs": [],
   "source": [
    "df = pd.read_csv('data.csv')\n",
    "\n",
    "# loads the data that will be used as input\n",
    "X = df[['num0', 'num1']]\n",
    "# loads the data that will be used as output\n",
    "y = df[['sum']]"
   ]
  },
  {
   "cell_type": "code",
   "execution_count": null,
   "metadata": {},
   "outputs": [],
   "source": [
    "print(X)\n",
    "print(y)"
   ]
  },
  {
   "cell_type": "code",
   "execution_count": 6,
   "metadata": {},
   "outputs": [],
   "source": [
    "# splits data into training and testing sets with a 8:2 ratio respectively (more info: https://stackoverflow.com/a/70195765/9313162)\n",
    "# \n",
    "#       X_train contains the values of the features (num0 and num1 => training data)\n",
    "#       y_train contains the target output corresponding to X_train values (sum => training data) (what values we should find after training process). There are also values generated after training process (predictions) which should be very close or the same with y_train values if the model is a successful one.\n",
    "#\n",
    "#       X_test contains the values of the features to be tested after training (num0 and num1 => test data)\n",
    "#       y_test contains the target output (disease => test data) corresponding to X_test (num0 and num1 => training data) and will be compared to prediction value with given X_test values of the model after training in order to determine how successful the model is.\n",
    "\n",
    "X_train, X_test, y_train, y_test = sk.train_test_split(X, y, test_size=0.2, random_state = 42)"
   ]
  },
  {
   "cell_type": "code",
   "execution_count": 12,
   "metadata": {},
   "outputs": [],
   "source": [
    "# builds a sequential model consisting of 3 layers.\n",
    "#       => first layer has 16 tensors, this value is arbitrary. this layer also uses relu activation function\n",
    "#       => second layer has 32 tensors, this value is also arbitrary but must have more tensors than the previous layers. this layer also uses relu activation function.\n",
    "#       => the final layer has 19 tensors, this value is not arbitrary. The number of tensors in the final layer is equal to the number of the possible outcomes. \n",
    "#           this layer uses softmax activation function, this function is used when we have multiple possible outcomes. When we have multiple possible outcomes, we want to choose the outcome with the highest probability. \n",
    "#           And that is what this activation function does.\n",
    "model = tf.keras.models.Sequential([\n",
    "    tf.keras.layers.Dense(units=16, activation=\"relu\"),\n",
    "    tf.keras.layers.Dense(units=32, activation=\"relu\"),\n",
    "    tf.keras.layers.Dense(units=19, activation=\"softmax\")\n",
    "])"
   ]
  },
  {
   "cell_type": "code",
   "execution_count": 8,
   "metadata": {},
   "outputs": [],
   "source": [
    "# this compiles the model we designed above. we are using the adam optimizer and the sparse_categorical_crossentropy loss function. the only metrics that we are tracking is the accuracy.\n",
    "model.compile(optimizer='adam', loss='sparse_categorical_crossentropy', metrics=['accuracy'])"
   ]
  },
  {
   "cell_type": "code",
   "execution_count": 9,
   "metadata": {},
   "outputs": [],
   "source": [
    "# this defines that our scaler will transform the data from numbers to between 0 and 1\n",
    "scaler = MinMaxScaler(feature_range=(0,1))  \n",
    "# this uses the scaler to transform the X_train values from regular numbers, to numbers between 0 and 1\n",
    "scaled_X_train = scaler.fit_transform(X_train)"
   ]
  },
  {
   "cell_type": "code",
   "execution_count": 10,
   "metadata": {},
   "outputs": [],
   "source": [
    "for i in scaled_X_train:\n",
    "    # print(i)\n",
    "    pass"
   ]
  },
  {
   "cell_type": "code",
   "execution_count": 11,
   "metadata": {},
   "outputs": [],
   "source": [
    "# this converts our pandas data frame into a compatible numpy array format\n",
    "NEW_y_train = []\n",
    "for i in y_train.to_numpy():\n",
    "    NEW_y_train.append(i[0])"
   ]
  },
  {
   "cell_type": "code",
   "execution_count": null,
   "metadata": {},
   "outputs": [],
   "source": [
    "# this trains the model\n",
    "model.fit(x=scaled_X_train, y=np.array(NEW_y_train), batch_size=10, epochs=30, shuffle=True, verbose=2)"
   ]
  },
  {
   "cell_type": "code",
   "execution_count": 12,
   "metadata": {},
   "outputs": [],
   "source": [
    "\n",
    "# transforms our testing scaled_X_test data from regular integers to numbers between 0 and 1\n",
    "scaled_X_test = scaler.fit_transform(X_test)"
   ]
  },
  {
   "cell_type": "code",
   "execution_count": 13,
   "metadata": {},
   "outputs": [],
   "source": [
    "# uses our trained model to predict the output using our 20% testing data which is called scaled_X_test\n",
    "predictions = model.predict(x=scaled_X_test, batch_size=10, verbose=0)"
   ]
  },
  {
   "cell_type": "code",
   "execution_count": null,
   "metadata": {},
   "outputs": [],
   "source": [
    "for i in scaled_X_test:\n",
    "    print(i)"
   ]
  },
  {
   "cell_type": "code",
   "execution_count": null,
   "metadata": {},
   "outputs": [],
   "source": [
    "for i in predictions:\n",
    "    print(i)"
   ]
  },
  {
   "cell_type": "code",
   "execution_count": 14,
   "metadata": {},
   "outputs": [],
   "source": [
    "# takes all the possible outcomes and chooses the best one which has the highest probability\n",
    "rounded_predictions = np.argmax(predictions, axis=1)"
   ]
  },
  {
   "cell_type": "code",
   "execution_count": null,
   "metadata": {},
   "outputs": [],
   "source": [
    "for i in rounded_predictions:\n",
    "    print(i)"
   ]
  }
 ],
 "metadata": {
  "kernelspec": {
   "display_name": "Python 3",
   "language": "python",
   "name": "python3"
  },
  "language_info": {
   "codemirror_mode": {
    "name": "ipython",
    "version": 3
   },
   "file_extension": ".py",
   "mimetype": "text/x-python",
   "name": "python",
   "nbconvert_exporter": "python",
   "pygments_lexer": "ipython3",
   "version": "3.9.2"
  },
  "orig_nbformat": 4,
  "vscode": {
   "interpreter": {
    "hash": "31f2aee4e71d21fbe5cf8b01ff0e069b9275f58929596ceb00d14d90e3e16cd6"
   }
  }
 },
 "nbformat": 4,
 "nbformat_minor": 2
}
